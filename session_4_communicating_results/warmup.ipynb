{
 "cells": [
  {
   "cell_type": "code",
   "execution_count": null,
   "metadata": {},
   "outputs": [],
   "source": [
    "# Import tidyverse, tidymodels, psych"
   ]
  },
  {
   "cell_type": "code",
   "execution_count": null,
   "metadata": {},
   "outputs": [],
   "source": [
    "# Import birthweights\n",
    "birthweights <- ___('https://raw.githubusercontent.com/stringfestdata/training-assets/master/datasets/birthweights.csv')\n",
    "head(___)"
   ]
  },
  {
   "cell_type": "code",
   "execution_count": null,
   "metadata": {},
   "outputs": [],
   "source": [
    "# Plot the relationship between length and weight\n",
    "# Add a fit line and a title\n",
    "ggplot(___(___ = length, ___ = weight), ___ = ___) + \n",
    " geom____() + \n",
    " ___(method = ___) +\n",
    " ___('Relationship between length and weight')"
   ]
  },
  {
   "cell_type": "code",
   "execution_count": null,
   "metadata": {},
   "outputs": [],
   "source": [
    "# Regress weight on length and get summary results\n"
   ]
  },
  {
   "cell_type": "code",
   "execution_count": null,
   "metadata": {},
   "outputs": [],
   "source": [
    "# Split the dataset into train/test samples and check the\n",
    "# Resulting dataset sizes. \n",
    "# what should be your next step?\n",
    "\n",
    "____(1234)\n",
    "\n",
    "\n",
    "bw_split <- ____(____)\n",
    "\n",
    "bw_train <- training(bw_split)\n",
    "dim(____)"
   ]
  },
  {
   "cell_type": "code",
   "execution_count": null,
   "metadata": {},
   "outputs": [],
   "source": [
    "bw_test <- testing(bw_split)\n",
    "____(bw_test)"
   ]
  }
 ],
 "metadata": {
  "kernelspec": {
   "display_name": "R",
   "language": "R",
   "name": "ir"
  },
  "language_info": {
   "codemirror_mode": "r",
   "file_extension": ".r",
   "mimetype": "text/x-r-source",
   "name": "R",
   "pygments_lexer": "r",
   "version": "4.0.2"
  }
 },
 "nbformat": 4,
 "nbformat_minor": 2
}
