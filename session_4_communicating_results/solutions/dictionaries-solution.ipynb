{
 "cells": [
  {
   "cell_type": "code",
   "execution_count": 1,
   "id": "594fe23c",
   "metadata": {},
   "outputs": [
    {
     "data": {
      "text/plain": [
       "{'Barry': 762, 'Hank': 755, 'Babe': 714, 'Alex': 696}"
      ]
     },
     "execution_count": 1,
     "metadata": {},
     "output_type": "execute_result"
    }
   ],
   "source": [
    "# Basic dictionary\n",
    "\n",
    "leaders = {'Barry': 762, 'Hank': 755, 'Babe': 714, 'Alex': 696}\n",
    "leaders"
   ]
  },
  {
   "cell_type": "code",
   "execution_count": 2,
   "id": "ba874719",
   "metadata": {},
   "outputs": [
    {
     "data": {
      "text/plain": [
       "{'Barry': [762, 'L'],\n",
       " 'Hank': [755, 'R'],\n",
       " 'Babe': [714, 'L'],\n",
       " 'Alex': [696, 'R']}"
      ]
     },
     "execution_count": 2,
     "metadata": {},
     "output_type": "execute_result"
    }
   ],
   "source": [
    "# Dictionaries can store lists\n",
    "\n",
    "leaders_bats = {'Barry': [762, 'L'], 'Hank': [755, 'R'], 'Babe': [714, 'L'], 'Alex': [696, 'R']}\n",
    "leaders_bats"
   ]
  },
  {
   "cell_type": "code",
   "execution_count": 3,
   "id": "753c7d50",
   "metadata": {},
   "outputs": [
    {
     "data": {
      "text/plain": [
       "755"
      ]
     },
     "execution_count": 3,
     "metadata": {},
     "output_type": "execute_result"
    }
   ],
   "source": [
    "# We can index them by name\n",
    "leaders['Hank']"
   ]
  },
  {
   "cell_type": "code",
   "execution_count": 4,
   "id": "d8dd4e2e",
   "metadata": {},
   "outputs": [],
   "source": [
    "# But not position\n",
    "\n",
    "#leaders[2]"
   ]
  },
  {
   "cell_type": "code",
   "execution_count": 5,
   "id": "f528a49e",
   "metadata": {},
   "outputs": [
    {
     "data": {
      "text/plain": [
       "{'Barry': 762, 'Hank': 755, 'Babe': 714, 'Alex': 696, 'Albert': 679}"
      ]
     },
     "execution_count": 5,
     "metadata": {},
     "output_type": "execute_result"
    }
   ],
   "source": [
    "# We can add new ones...\n",
    "\n",
    "leaders['Albert'] = 679\n",
    "leaders"
   ]
  },
  {
   "cell_type": "markdown",
   "id": "ff109e62",
   "metadata": {},
   "source": [
    "Will you be accessing items by element?  *Dictionary*\n",
    "Will you be accessing items by position? *Use a list*\n",
    "\n",
    "###### If there's no intrinsic ordering of the items, Python will likely use a dictionary. \n",
    "\n",
    "Let's look at some examples particularly using Pandas..."
   ]
  },
  {
   "cell_type": "code",
   "execution_count": 6,
   "id": "aaf4251c",
   "metadata": {},
   "outputs": [
    {
     "data": {
      "text/html": [
       "<div>\n",
       "<style scoped>\n",
       "    .dataframe tbody tr th:only-of-type {\n",
       "        vertical-align: middle;\n",
       "    }\n",
       "\n",
       "    .dataframe tbody tr th {\n",
       "        vertical-align: top;\n",
       "    }\n",
       "\n",
       "    .dataframe thead th {\n",
       "        text-align: right;\n",
       "    }\n",
       "</style>\n",
       "<table border=\"1\" class=\"dataframe\">\n",
       "  <thead>\n",
       "    <tr style=\"text-align: right;\">\n",
       "      <th></th>\n",
       "      <th>name</th>\n",
       "      <th>home_runs</th>\n",
       "    </tr>\n",
       "  </thead>\n",
       "  <tbody>\n",
       "    <tr>\n",
       "      <th>0</th>\n",
       "      <td>Barry</td>\n",
       "      <td>762</td>\n",
       "    </tr>\n",
       "    <tr>\n",
       "      <th>1</th>\n",
       "      <td>Hank</td>\n",
       "      <td>755</td>\n",
       "    </tr>\n",
       "    <tr>\n",
       "      <th>2</th>\n",
       "      <td>Babe</td>\n",
       "      <td>714</td>\n",
       "    </tr>\n",
       "    <tr>\n",
       "      <th>3</th>\n",
       "      <td>Alex</td>\n",
       "      <td>696</td>\n",
       "    </tr>\n",
       "    <tr>\n",
       "      <th>4</th>\n",
       "      <td>Albert</td>\n",
       "      <td>679</td>\n",
       "    </tr>\n",
       "  </tbody>\n",
       "</table>\n",
       "</div>"
      ],
      "text/plain": [
       "     name  home_runs\n",
       "0   Barry        762\n",
       "1    Hank        755\n",
       "2    Babe        714\n",
       "3    Alex        696\n",
       "4  Albert        679"
      ]
     },
     "execution_count": 6,
     "metadata": {},
     "output_type": "execute_result"
    }
   ],
   "source": [
    "import pandas as pd\n",
    "\n",
    "# name columns -- order matters\n",
    "leaders_df = pd.DataFrame(list(leaders.items()), columns=['name', 'home_runs'])\n",
    "leaders_df"
   ]
  },
  {
   "cell_type": "code",
   "execution_count": 7,
   "id": "50bb318b",
   "metadata": {},
   "outputs": [
    {
     "data": {
      "text/html": [
       "<div>\n",
       "<style scoped>\n",
       "    .dataframe tbody tr th:only-of-type {\n",
       "        vertical-align: middle;\n",
       "    }\n",
       "\n",
       "    .dataframe tbody tr th {\n",
       "        vertical-align: top;\n",
       "    }\n",
       "\n",
       "    .dataframe thead th {\n",
       "        text-align: right;\n",
       "    }\n",
       "</style>\n",
       "<table border=\"1\" class=\"dataframe\">\n",
       "  <thead>\n",
       "    <tr style=\"text-align: right;\">\n",
       "      <th></th>\n",
       "      <th>player</th>\n",
       "      <th>homers</th>\n",
       "    </tr>\n",
       "  </thead>\n",
       "  <tbody>\n",
       "    <tr>\n",
       "      <th>0</th>\n",
       "      <td>Barry</td>\n",
       "      <td>762</td>\n",
       "    </tr>\n",
       "    <tr>\n",
       "      <th>1</th>\n",
       "      <td>Hank</td>\n",
       "      <td>755</td>\n",
       "    </tr>\n",
       "    <tr>\n",
       "      <th>2</th>\n",
       "      <td>Babe</td>\n",
       "      <td>714</td>\n",
       "    </tr>\n",
       "    <tr>\n",
       "      <th>3</th>\n",
       "      <td>Alex</td>\n",
       "      <td>696</td>\n",
       "    </tr>\n",
       "    <tr>\n",
       "      <th>4</th>\n",
       "      <td>Albert</td>\n",
       "      <td>679</td>\n",
       "    </tr>\n",
       "  </tbody>\n",
       "</table>\n",
       "</div>"
      ],
      "text/plain": [
       "   player  homers\n",
       "0   Barry     762\n",
       "1    Hank     755\n",
       "2    Babe     714\n",
       "3    Alex     696\n",
       "4  Albert     679"
      ]
     },
     "execution_count": 7,
     "metadata": {},
     "output_type": "execute_result"
    }
   ],
   "source": [
    "# Renaming columns -- ordering doesn't matter\n",
    "\n",
    "leaders_df.rename(columns = {'home_runs': 'homers', 'name': 'player'}, inplace=True)\n",
    "leaders_df"
   ]
  },
  {
   "cell_type": "code",
   "execution_count": 8,
   "id": "7ba021c8",
   "metadata": {},
   "outputs": [
    {
     "data": {
      "text/html": [
       "<div>\n",
       "<style scoped>\n",
       "    .dataframe tbody tr th:only-of-type {\n",
       "        vertical-align: middle;\n",
       "    }\n",
       "\n",
       "    .dataframe tbody tr th {\n",
       "        vertical-align: top;\n",
       "    }\n",
       "\n",
       "    .dataframe thead th {\n",
       "        text-align: right;\n",
       "    }\n",
       "</style>\n",
       "<table border=\"1\" class=\"dataframe\">\n",
       "  <thead>\n",
       "    <tr style=\"text-align: right;\">\n",
       "      <th></th>\n",
       "      <th>player</th>\n",
       "      <th>homers</th>\n",
       "    </tr>\n",
       "  </thead>\n",
       "  <tbody>\n",
       "    <tr>\n",
       "      <th>0</th>\n",
       "      <td>Barry</td>\n",
       "      <td>762</td>\n",
       "    </tr>\n",
       "    <tr>\n",
       "      <th>1</th>\n",
       "      <td>Henry</td>\n",
       "      <td>755</td>\n",
       "    </tr>\n",
       "    <tr>\n",
       "      <th>2</th>\n",
       "      <td>Babe</td>\n",
       "      <td>714</td>\n",
       "    </tr>\n",
       "    <tr>\n",
       "      <th>3</th>\n",
       "      <td>Alex</td>\n",
       "      <td>696</td>\n",
       "    </tr>\n",
       "    <tr>\n",
       "      <th>4</th>\n",
       "      <td>Albert</td>\n",
       "      <td>679</td>\n",
       "    </tr>\n",
       "  </tbody>\n",
       "</table>\n",
       "</div>"
      ],
      "text/plain": [
       "   player  homers\n",
       "0   Barry     762\n",
       "1   Henry     755\n",
       "2    Babe     714\n",
       "3    Alex     696\n",
       "4  Albert     679"
      ]
     },
     "execution_count": 8,
     "metadata": {},
     "output_type": "execute_result"
    }
   ],
   "source": [
    "# Replace values -- order does not matter\n",
    "\n",
    "leaders_df.replace({'Hank': 'Henry'}, inplace=True)\n",
    "leaders_df"
   ]
  },
  {
   "cell_type": "code",
   "execution_count": 9,
   "id": "ca67fe34",
   "metadata": {},
   "outputs": [
    {
     "data": {
      "text/html": [
       "<div>\n",
       "<style scoped>\n",
       "    .dataframe tbody tr th:only-of-type {\n",
       "        vertical-align: middle;\n",
       "    }\n",
       "\n",
       "    .dataframe tbody tr th {\n",
       "        vertical-align: top;\n",
       "    }\n",
       "\n",
       "    .dataframe thead th {\n",
       "        text-align: right;\n",
       "    }\n",
       "</style>\n",
       "<table border=\"1\" class=\"dataframe\">\n",
       "  <thead>\n",
       "    <tr style=\"text-align: right;\">\n",
       "      <th></th>\n",
       "      <th>player</th>\n",
       "      <th>homers</th>\n",
       "    </tr>\n",
       "  </thead>\n",
       "  <tbody>\n",
       "    <tr>\n",
       "      <th>0</th>\n",
       "      <td>Barry</td>\n",
       "      <td>NaN</td>\n",
       "    </tr>\n",
       "    <tr>\n",
       "      <th>1</th>\n",
       "      <td>Henry</td>\n",
       "      <td>755.0</td>\n",
       "    </tr>\n",
       "    <tr>\n",
       "      <th>2</th>\n",
       "      <td>Babe</td>\n",
       "      <td>714.0</td>\n",
       "    </tr>\n",
       "    <tr>\n",
       "      <th>3</th>\n",
       "      <td>Alex</td>\n",
       "      <td>696.0</td>\n",
       "    </tr>\n",
       "    <tr>\n",
       "      <th>4</th>\n",
       "      <td>Albert</td>\n",
       "      <td>679.0</td>\n",
       "    </tr>\n",
       "  </tbody>\n",
       "</table>\n",
       "</div>"
      ],
      "text/plain": [
       "   player  homers\n",
       "0   Barry     NaN\n",
       "1   Henry   755.0\n",
       "2    Babe   714.0\n",
       "3    Alex   696.0\n",
       "4  Albert   679.0"
      ]
     },
     "execution_count": 9,
     "metadata": {},
     "output_type": "execute_result"
    }
   ],
   "source": [
    "# (Not dictionary related)... \n",
    "# Insert a missing value\n",
    "\n",
    "import numpy as np\n",
    "\n",
    "leaders_df.loc[leaders_df['player']=='Barry', 'homers'] = np.NaN\n",
    "leaders_df"
   ]
  },
  {
   "cell_type": "code",
   "execution_count": 10,
   "id": "4de3fec1",
   "metadata": {},
   "outputs": [
    {
     "data": {
      "text/plain": [
       "711.0"
      ]
     },
     "execution_count": 10,
     "metadata": {},
     "output_type": "execute_result"
    }
   ],
   "source": [
    "# What happens if you take the average?\n",
    "\n",
    "leaders_df['homers'].mean()"
   ]
  },
  {
   "cell_type": "code",
   "execution_count": 11,
   "id": "6e66c014",
   "metadata": {},
   "outputs": [
    {
     "name": "stdout",
     "output_type": "stream",
     "text": [
      "<class 'pandas.core.frame.DataFrame'>\n",
      "RangeIndex: 5 entries, 0 to 4\n",
      "Data columns (total 2 columns):\n",
      " #   Column  Non-Null Count  Dtype  \n",
      "---  ------  --------------  -----  \n",
      " 0   player  5 non-null      object \n",
      " 1   homers  4 non-null      float64\n",
      "dtypes: float64(1), object(1)\n",
      "memory usage: 208.0+ bytes\n"
     ]
    }
   ],
   "source": [
    "# How many non-null values are in each column?\n",
    "\n",
    "leaders_df.info()"
   ]
  },
  {
   "cell_type": "code",
   "execution_count": null,
   "id": "3710d8d7",
   "metadata": {},
   "outputs": [],
   "source": []
  }
 ],
 "metadata": {
  "kernelspec": {
   "display_name": "Python 3",
   "language": "python",
   "name": "python3"
  },
  "language_info": {
   "codemirror_mode": {
    "name": "ipython",
    "version": 3
   },
   "file_extension": ".py",
   "mimetype": "text/x-python",
   "name": "python",
   "nbconvert_exporter": "python",
   "pygments_lexer": "ipython3",
   "version": "3.8.8"
  }
 },
 "nbformat": 4,
 "nbformat_minor": 5
}
