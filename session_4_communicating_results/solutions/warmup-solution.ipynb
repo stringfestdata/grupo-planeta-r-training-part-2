{
 "cells": [
  {
   "cell_type": "code",
   "execution_count": 1,
   "metadata": {},
   "outputs": [
    {
     "name": "stderr",
     "output_type": "stream",
     "text": [
      "-- \u001b[1mAttaching packages\u001b[22m --------------------------------------- tidyverse 1.3.0 --\n",
      "\n",
      "\u001b[32mv\u001b[39m \u001b[34mggplot2\u001b[39m 3.3.5     \u001b[32mv\u001b[39m \u001b[34mpurrr  \u001b[39m 0.3.4\n",
      "\u001b[32mv\u001b[39m \u001b[34mtibble \u001b[39m 3.0.4     \u001b[32mv\u001b[39m \u001b[34mdplyr  \u001b[39m 1.0.2\n",
      "\u001b[32mv\u001b[39m \u001b[34mtidyr  \u001b[39m 1.1.2     \u001b[32mv\u001b[39m \u001b[34mstringr\u001b[39m 1.4.0\n",
      "\u001b[32mv\u001b[39m \u001b[34mreadr  \u001b[39m 1.3.1     \u001b[32mv\u001b[39m \u001b[34mforcats\u001b[39m 0.5.0\n",
      "\n",
      "Warning message:\n",
      "\"package 'ggplot2' was built under R version 4.0.5\"\n",
      "Warning message:\n",
      "\"package 'tibble' was built under R version 4.0.3\"\n",
      "-- \u001b[1mConflicts\u001b[22m ------------------------------------------ tidyverse_conflicts() --\n",
      "\u001b[31mx\u001b[39m \u001b[34mdplyr\u001b[39m::\u001b[32mfilter()\u001b[39m masks \u001b[34mstats\u001b[39m::filter()\n",
      "\u001b[31mx\u001b[39m \u001b[34mdplyr\u001b[39m::\u001b[32mlag()\u001b[39m    masks \u001b[34mstats\u001b[39m::lag()\n",
      "\n",
      "Warning message:\n",
      "\"package 'tidymodels' was built under R version 4.0.3\"\n",
      "-- \u001b[1mAttaching packages\u001b[22m -------------------------------------- tidymodels 0.1.2 --\n",
      "\n",
      "\u001b[32mv\u001b[39m \u001b[34mbroom    \u001b[39m 0.7.8      \u001b[32mv\u001b[39m \u001b[34mrecipes  \u001b[39m 0.1.15\n",
      "\u001b[32mv\u001b[39m \u001b[34mdials    \u001b[39m 0.0.9      \u001b[32mv\u001b[39m \u001b[34mrsample  \u001b[39m 0.0.8 \n",
      "\u001b[32mv\u001b[39m \u001b[34minfer    \u001b[39m 0.5.3      \u001b[32mv\u001b[39m \u001b[34mtune     \u001b[39m 0.1.2 \n",
      "\u001b[32mv\u001b[39m \u001b[34mmodeldata\u001b[39m 0.1.0      \u001b[32mv\u001b[39m \u001b[34mworkflows\u001b[39m 0.2.1 \n",
      "\u001b[32mv\u001b[39m \u001b[34mparsnip  \u001b[39m 0.1.4      \u001b[32mv\u001b[39m \u001b[34myardstick\u001b[39m 0.0.7 \n",
      "\n",
      "Warning message:\n",
      "\"package 'broom' was built under R version 4.0.5\"\n",
      "Warning message:\n",
      "\"package 'dials' was built under R version 4.0.3\"\n",
      "Warning message:\n",
      "\"package 'infer' was built under R version 4.0.3\"\n",
      "Warning message:\n",
      "\"package 'modeldata' was built under R version 4.0.3\"\n",
      "Warning message:\n",
      "\"package 'parsnip' was built under R version 4.0.3\"\n",
      "Warning message:\n",
      "\"package 'recipes' was built under R version 4.0.3\"\n",
      "Warning message:\n",
      "\"package 'rsample' was built under R version 4.0.3\"\n",
      "Warning message:\n",
      "\"package 'tune' was built under R version 4.0.3\"\n",
      "Warning message:\n",
      "\"package 'workflows' was built under R version 4.0.3\"\n",
      "Warning message:\n",
      "\"package 'yardstick' was built under R version 4.0.3\"\n",
      "-- \u001b[1mConflicts\u001b[22m ----------------------------------------- tidymodels_conflicts() --\n",
      "\u001b[31mx\u001b[39m \u001b[34mscales\u001b[39m::\u001b[32mdiscard()\u001b[39m masks \u001b[34mpurrr\u001b[39m::discard()\n",
      "\u001b[31mx\u001b[39m \u001b[34mdplyr\u001b[39m::\u001b[32mfilter()\u001b[39m   masks \u001b[34mstats\u001b[39m::filter()\n",
      "\u001b[31mx\u001b[39m \u001b[34mrecipes\u001b[39m::\u001b[32mfixed()\u001b[39m  masks \u001b[34mstringr\u001b[39m::fixed()\n",
      "\u001b[31mx\u001b[39m \u001b[34mdplyr\u001b[39m::\u001b[32mlag()\u001b[39m      masks \u001b[34mstats\u001b[39m::lag()\n",
      "\u001b[31mx\u001b[39m \u001b[34myardstick\u001b[39m::\u001b[32mspec()\u001b[39m masks \u001b[34mreadr\u001b[39m::spec()\n",
      "\u001b[31mx\u001b[39m \u001b[34mrecipes\u001b[39m::\u001b[32mstep()\u001b[39m   masks \u001b[34mstats\u001b[39m::step()\n",
      "\n",
      "\n",
      "Attaching package: 'psych'\n",
      "\n",
      "\n",
      "The following objects are masked from 'package:scales':\n",
      "\n",
      "    alpha, rescale\n",
      "\n",
      "\n",
      "The following objects are masked from 'package:ggplot2':\n",
      "\n",
      "    %+%, alpha\n",
      "\n",
      "\n"
     ]
    }
   ],
   "source": [
    "# Import tidyverse, tidymodels, psych\n",
    "library(tidyverse)\n",
    "library(tidymodels)\n",
    "library(psych)"
   ]
  },
  {
   "cell_type": "code",
   "execution_count": 2,
   "metadata": {},
   "outputs": [
    {
     "name": "stderr",
     "output_type": "stream",
     "text": [
      "Parsed with column specification:\n",
      "cols(\n",
      "  ID = \u001b[32mcol_double()\u001b[39m,\n",
      "  weight = \u001b[32mcol_double()\u001b[39m,\n",
      "  length = \u001b[32mcol_double()\u001b[39m,\n",
      "  headcirc = \u001b[32mcol_double()\u001b[39m,\n",
      "  gestation = \u001b[32mcol_double()\u001b[39m,\n",
      "  smoker = \u001b[32mcol_double()\u001b[39m\n",
      ")\n",
      "\n"
     ]
    },
    {
     "data": {
      "text/html": [
       "<table>\n",
       "<caption>A tibble: 6 × 6</caption>\n",
       "<thead>\n",
       "\t<tr><th scope=col>ID</th><th scope=col>weight</th><th scope=col>length</th><th scope=col>headcirc</th><th scope=col>gestation</th><th scope=col>smoker</th></tr>\n",
       "\t<tr><th scope=col>&lt;dbl&gt;</th><th scope=col>&lt;dbl&gt;</th><th scope=col>&lt;dbl&gt;</th><th scope=col>&lt;dbl&gt;</th><th scope=col>&lt;dbl&gt;</th><th scope=col>&lt;dbl&gt;</th></tr>\n",
       "</thead>\n",
       "<tbody>\n",
       "\t<tr><td>1360</td><td>4.55</td><td>56</td><td>34</td><td>44</td><td>0</td></tr>\n",
       "\t<tr><td>1016</td><td>4.32</td><td>53</td><td>36</td><td>40</td><td>0</td></tr>\n",
       "\t<tr><td> 462</td><td>4.10</td><td>58</td><td>39</td><td>41</td><td>0</td></tr>\n",
       "\t<tr><td>1187</td><td>4.07</td><td>53</td><td>38</td><td>44</td><td>0</td></tr>\n",
       "\t<tr><td> 553</td><td>3.94</td><td>54</td><td>37</td><td>42</td><td>0</td></tr>\n",
       "\t<tr><td>1636</td><td>3.93</td><td>51</td><td>38</td><td>38</td><td>0</td></tr>\n",
       "</tbody>\n",
       "</table>\n"
      ],
      "text/latex": [
       "A tibble: 6 × 6\n",
       "\\begin{tabular}{llllll}\n",
       " ID & weight & length & headcirc & gestation & smoker\\\\\n",
       " <dbl> & <dbl> & <dbl> & <dbl> & <dbl> & <dbl>\\\\\n",
       "\\hline\n",
       "\t 1360 & 4.55 & 56 & 34 & 44 & 0\\\\\n",
       "\t 1016 & 4.32 & 53 & 36 & 40 & 0\\\\\n",
       "\t  462 & 4.10 & 58 & 39 & 41 & 0\\\\\n",
       "\t 1187 & 4.07 & 53 & 38 & 44 & 0\\\\\n",
       "\t  553 & 3.94 & 54 & 37 & 42 & 0\\\\\n",
       "\t 1636 & 3.93 & 51 & 38 & 38 & 0\\\\\n",
       "\\end{tabular}\n"
      ],
      "text/markdown": [
       "\n",
       "A tibble: 6 × 6\n",
       "\n",
       "| ID &lt;dbl&gt; | weight &lt;dbl&gt; | length &lt;dbl&gt; | headcirc &lt;dbl&gt; | gestation &lt;dbl&gt; | smoker &lt;dbl&gt; |\n",
       "|---|---|---|---|---|---|\n",
       "| 1360 | 4.55 | 56 | 34 | 44 | 0 |\n",
       "| 1016 | 4.32 | 53 | 36 | 40 | 0 |\n",
       "|  462 | 4.10 | 58 | 39 | 41 | 0 |\n",
       "| 1187 | 4.07 | 53 | 38 | 44 | 0 |\n",
       "|  553 | 3.94 | 54 | 37 | 42 | 0 |\n",
       "| 1636 | 3.93 | 51 | 38 | 38 | 0 |\n",
       "\n"
      ],
      "text/plain": [
       "  ID   weight length headcirc gestation smoker\n",
       "1 1360 4.55   56     34       44        0     \n",
       "2 1016 4.32   53     36       40        0     \n",
       "3  462 4.10   58     39       41        0     \n",
       "4 1187 4.07   53     38       44        0     \n",
       "5  553 3.94   54     37       42        0     \n",
       "6 1636 3.93   51     38       38        0     "
      ]
     },
     "metadata": {},
     "output_type": "display_data"
    }
   ],
   "source": [
    "# Import birthweights\n",
    "birthweights <- read_csv('../datasets/birthweights.csv')\n",
    "head(birthweights)"
   ]
  },
  {
   "cell_type": "code",
   "execution_count": 3,
   "metadata": {},
   "outputs": [
    {
     "name": "stderr",
     "output_type": "stream",
     "text": [
      "`geom_smooth()` using formula 'y ~ x'\n",
      "\n"
     ]
    },
    {
     "data": {
      "image/png": "[encoded data removed]",
      "text/plain": [
       "plot without title"
      ]
     },
     "metadata": {
      "image/png": {
       "height": 420,
       "width": 420
      }
     },
     "output_type": "display_data"
    }
   ],
   "source": [
    "# Plot the relationship between length and weight\n",
    "# Add a fit line and a title\n",
    "ggplot(aes(x = length, y = weight), data = birthweights) + \n",
    " geom_point() + \n",
    " geom_smooth(method = lm) +\n",
    " ggtitle('Relationship between length and weight')"
   ]
  },
  {
   "cell_type": "code",
   "execution_count": 4,
   "metadata": {},
   "outputs": [
    {
     "data": {
      "text/plain": [
       "\n",
       "Call:\n",
       "lm(formula = weight ~ length, data = birthweights)\n",
       "\n",
       "Residuals:\n",
       "     Min       1Q   Median       3Q      Max \n",
       "-0.89446 -0.35492  0.01746  0.28674  0.75794 \n",
       "\n",
       "Coefficients:\n",
       "            Estimate Std. Error t value Pr(>|t|)    \n",
       "(Intercept) -4.36244    1.14858  -3.798 0.000486 ***\n",
       "length       0.14952    0.02234   6.693 5.03e-08 ***\n",
       "---\n",
       "Signif. codes:  0 '***' 0.001 '**' 0.01 '*' 0.05 '.' 0.1 ' ' 1\n",
       "\n",
       "Residual standard error: 0.4199 on 40 degrees of freedom\n",
       "Multiple R-squared:  0.5283,\tAdjusted R-squared:  0.5165 \n",
       "F-statistic:  44.8 on 1 and 40 DF,  p-value: 5.029e-08\n"
      ]
     },
     "metadata": {},
     "output_type": "display_data"
    }
   ],
   "source": [
    "# Regress weight on length and get summary results\n",
    "\n",
    "bw_reg <- lm(weight ~ length, data = birthweights)\n",
    "summary(bw_reg)"
   ]
  },
  {
   "cell_type": "code",
   "execution_count": 5,
   "metadata": {},
   "outputs": [
    {
     "data": {
      "text/html": [
       "<style>\n",
       ".list-inline {list-style: none; margin:0; padding: 0}\n",
       ".list-inline>li {display: inline-block}\n",
       ".list-inline>li:not(:last-child)::after {content: \"\\00b7\"; padding: 0 .5ex}\n",
       "</style>\n",
       "<ol class=list-inline><li>32</li><li>6</li></ol>\n"
      ],
      "text/latex": [
       "\\begin{enumerate*}\n",
       "\\item 32\n",
       "\\item 6\n",
       "\\end{enumerate*}\n"
      ],
      "text/markdown": [
       "1. 32\n",
       "2. 6\n",
       "\n",
       "\n"
      ],
      "text/plain": [
       "[1] 32  6"
      ]
     },
     "metadata": {},
     "output_type": "display_data"
    }
   ],
   "source": [
    "# Split the dataset into train/test samples...\n",
    "# what should be your next step?\n",
    "\n",
    "set.seed(1234)\n",
    "\n",
    "\n",
    "bw_split <- initial_split(birthweights)\n",
    "\n",
    "bw_train <- training(bw_split)\n",
    "dim(bw_train)"
   ]
  },
  {
   "cell_type": "code",
   "execution_count": 6,
   "metadata": {},
   "outputs": [
    {
     "data": {
      "text/html": [
       "<style>\n",
       ".list-inline {list-style: none; margin:0; padding: 0}\n",
       ".list-inline>li {display: inline-block}\n",
       ".list-inline>li:not(:last-child)::after {content: \"\\00b7\"; padding: 0 .5ex}\n",
       "</style>\n",
       "<ol class=list-inline><li>10</li><li>6</li></ol>\n"
      ],
      "text/latex": [
       "\\begin{enumerate*}\n",
       "\\item 10\n",
       "\\item 6\n",
       "\\end{enumerate*}\n"
      ],
      "text/markdown": [
       "1. 10\n",
       "2. 6\n",
       "\n",
       "\n"
      ],
      "text/plain": [
       "[1] 10  6"
      ]
     },
     "metadata": {},
     "output_type": "display_data"
    }
   ],
   "source": [
    "bw_test <- testing(bw_split)\n",
    "dim(bw_test)"
   ]
  },
  {
   "cell_type": "code",
   "execution_count": null,
   "metadata": {},
   "outputs": [],
   "source": []
  }
 ],
 "metadata": {
  "kernelspec": {
   "display_name": "R",
   "language": "R",
   "name": "ir"
  },
  "language_info": {
   "codemirror_mode": "r",
   "file_extension": ".r",
   "mimetype": "text/x-r-source",
   "name": "R",
   "pygments_lexer": "r",
   "version": "4.0.2"
  }
 },
 "nbformat": 4,
 "nbformat_minor": 2
}
