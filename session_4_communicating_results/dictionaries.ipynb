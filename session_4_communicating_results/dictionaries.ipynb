{
 "cells": [
  {
   "cell_type": "code",
   "execution_count": null,
   "id": "a4787299",
   "metadata": {},
   "outputs": [],
   "source": [
    "# Basic dictionary\n",
    "\n",
    "\n",
    "leaders = {'Barry': 762, 'Hank': 755, 'Babe': 714, 'Alex': 696}\n",
    "leaders"
   ]
  },
  {
   "cell_type": "code",
   "execution_count": null,
   "id": "6286f9b1",
   "metadata": {},
   "outputs": [],
   "source": [
    "# Dictionaries can store lists\n",
    "\n",
    "leaders_bats = {'Barry': [762, 'L'], 'Hank': [755, 'R'], 'Babe': [714, 'L'], 'Alex': [696, 'R']}\n",
    "leaders_bats"
   ]
  },
  {
   "cell_type": "code",
   "execution_count": null,
   "id": "58da96e8",
   "metadata": {},
   "outputs": [],
   "source": [
    "# We can index them by name\n"
   ]
  },
  {
   "cell_type": "code",
   "execution_count": null,
   "id": "ae89c9a6",
   "metadata": {},
   "outputs": [],
   "source": [
    "# But not position\n",
    "\n"
   ]
  },
  {
   "cell_type": "code",
   "execution_count": null,
   "id": "0f2ffa90",
   "metadata": {},
   "outputs": [],
   "source": [
    "# We can add new ones...\n",
    "\n"
   ]
  },
  {
   "cell_type": "markdown",
   "id": "5c330e48",
   "metadata": {},
   "source": [
    "Will you be accessing items by element?  *Dictionary*  \n",
    "Will you be accessing items by position? *Use a list*  \n",
    "\n",
    "###### If there's no intrinsic ordering of the items, Python will likely use a dictionary. \n",
    "\n",
    "Let's look at some examples particularly using Pandas..."
   ]
  },
  {
   "cell_type": "code",
   "execution_count": null,
   "id": "baae90c1",
   "metadata": {},
   "outputs": [],
   "source": [
    "import pandas as pd\n",
    "\n",
    "# Create DataFrame from dictionary\n",
    "# and name columns -- order matters\n"
   ]
  },
  {
   "cell_type": "code",
   "execution_count": null,
   "id": "07db2727",
   "metadata": {},
   "outputs": [],
   "source": [
    "# Renaming columns -- ordering doesn't matter\n",
    "# Do you remember how to do this from the book?\n",
    "\n"
   ]
  },
  {
   "cell_type": "code",
   "execution_count": null,
   "id": "461877a1",
   "metadata": {},
   "outputs": [],
   "source": [
    "# Replace values -- order does not matter\n",
    "# The way used in the book replaces ALL values\n",
    "\n"
   ]
  },
  {
   "cell_type": "markdown",
   "id": "ae1957b4",
   "metadata": {},
   "source": [
    "#### Questions about dictionaries?\n",
    "\n",
    "A couple more things..."
   ]
  },
  {
   "cell_type": "code",
   "execution_count": null,
   "id": "3c7d8215",
   "metadata": {},
   "outputs": [],
   "source": [
    "# (Not dictionary related)... \n",
    "# Insert a missing value for Barry's HRs\n",
    "\n",
    "import numpy as np\n",
    "\n",
    "\n"
   ]
  },
  {
   "cell_type": "code",
   "execution_count": null,
   "id": "361a2033",
   "metadata": {},
   "outputs": [],
   "source": [
    "# What happens if you take the average?\n"
   ]
  },
  {
   "cell_type": "code",
   "execution_count": null,
   "id": "e3824c65",
   "metadata": {},
   "outputs": [],
   "source": [
    "# How many non-null values are in each column?\n",
    "# Do you remember how to do this in the book? \n",
    "\n"
   ]
  },
  {
   "cell_type": "markdown",
   "id": "550dc09a",
   "metadata": {},
   "source": [
    "#### Questions about missing values?"
   ]
  }
 ],
 "metadata": {
  "kernelspec": {
   "display_name": "Python 3",
   "language": "python",
   "name": "python3"
  },
  "language_info": {
   "codemirror_mode": {
    "name": "ipython",
    "version": 3
   },
   "file_extension": ".py",
   "mimetype": "text/x-python",
   "name": "python",
   "nbconvert_exporter": "python",
   "pygments_lexer": "ipython3",
   "version": "3.8.8"
  }
 },
 "nbformat": 4,
 "nbformat_minor": 5
}
